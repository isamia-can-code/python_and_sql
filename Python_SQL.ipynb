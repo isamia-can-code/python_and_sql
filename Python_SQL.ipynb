{
 "cells": [
  {
   "cell_type": "markdown",
   "id": "a941a620",
   "metadata": {},
   "source": [
    "# Part 1 - setting up dependancies"
   ]
  },
  {
   "cell_type": "code",
   "execution_count": 1,
   "id": "ff30875b",
   "metadata": {},
   "outputs": [],
   "source": [
    "import duckdb as db\n",
    "import pandas as p\n",
    "import sqlalchemy"
   ]
  },
  {
   "cell_type": "markdown",
   "id": "e755a82b",
   "metadata": {},
   "source": [
    "# Part 2 - Creating the table "
   ]
  },
  {
   "cell_type": "code",
   "execution_count": 2,
   "id": "37ab2c53",
   "metadata": {},
   "outputs": [],
   "source": [
    "#creating the food table and then displaying it\n",
    "db.sql('CREATE TABLE food as SELECT * FROM \"Online_food_Kaggle.csv\"')"
   ]
  },
  {
   "cell_type": "code",
   "execution_count": 3,
   "id": "8fe74238",
   "metadata": {},
   "outputs": [
    {
     "data": {
      "text/plain": [
       "┌──────────┬─────────┬─────────┬──────────────────────┬────────────────────────────────────────────────────┬───────────┐\n",
       "│ database │ schema  │  name   │     column_names     │                    column_types                    │ temporary │\n",
       "│ varchar  │ varchar │ varchar │      varchar[]       │                     varchar[]                      │  boolean  │\n",
       "├──────────┼─────────┼─────────┼──────────────────────┼────────────────────────────────────────────────────┼───────────┤\n",
       "│ memory   │ main    │ food    │ [Age, Gender, Mari…  │ [BIGINT, VARCHAR, VARCHAR, VARCHAR, VARCHAR, VAR…  │ false     │\n",
       "└──────────┴─────────┴─────────┴──────────────────────┴────────────────────────────────────────────────────┴───────────┘"
      ]
     },
     "execution_count": 3,
     "metadata": {},
     "output_type": "execute_result"
    }
   ],
   "source": [
    "db.sql('SHOW ALL TABLES')"
   ]
  },
  {
   "cell_type": "markdown",
   "id": "c53ca060",
   "metadata": {},
   "source": [
    "# Part 3 - Queries using SQL Statements"
   ]
  },
  {
   "cell_type": "code",
   "execution_count": 4,
   "id": "383c773f",
   "metadata": {},
   "outputs": [
    {
     "name": "stdout",
     "output_type": "stream",
     "text": [
      "Table generated with Carrier, CarrierName and DepartureDelaySum \n",
      "This is the dataframe:\n",
      "     Age\n",
      "0     20\n",
      "1     24\n",
      "2     22\n",
      "3     22\n",
      "4     22\n",
      "..   ...\n",
      "383   23\n",
      "384   23\n",
      "385   22\n",
      "386   23\n",
      "387   23\n",
      "\n",
      "[388 rows x 1 columns]\n"
     ]
    }
   ],
   "source": [
    "queryLargestDepartureDeLayFlights = '''\n",
    "SELECT \n",
    "    Age\n",
    "FROM \n",
    "    food\n",
    "'''\n",
    "print(\"Table generated with Carrier, CarrierName and DepartureDelaySum \")\n",
    "result = db.sql(queryLargestDepartureDeLayFlights).fetchdf() #converted to dataframe\n",
    "print(\"This is the dataframe:\")\n",
    "print(result)"
   ]
  },
  {
   "cell_type": "code",
   "execution_count": 5,
   "id": "08984f98",
   "metadata": {},
   "outputs": [
    {
     "name": "stdout",
     "output_type": "stream",
     "text": [
      "This is the result:\n",
      "   Gender  total\n",
      "0  Female    166\n",
      "1    Male    222\n"
     ]
    }
   ],
   "source": [
    "sql_query = \"\"\"\n",
    "    SELECT\n",
    "        Gender,\n",
    "        COUNT(*) AS total\n",
    "    FROM \n",
    "        food\n",
    "    GROUP BY Gender\n",
    "\"\"\"\n",
    "\n",
    "result = db.sql(sql_query).fetchdf()\n",
    "print(\"This is the result:\")\n",
    "print(result)"
   ]
  },
  {
   "cell_type": "code",
   "execution_count": 6,
   "id": "743e537d",
   "metadata": {},
   "outputs": [
    {
     "name": "stdout",
     "output_type": "stream",
     "text": [
      "This is the result:\n",
      "  Educational Qualifications  Avg_Family_Size\n",
      "0                     School         4.416667\n",
      "1                       Ph.D         3.695652\n",
      "2                 Uneducated         3.500000\n",
      "3                   Graduate         3.276836\n",
      "4              Post Graduate         3.149425\n"
     ]
    }
   ],
   "source": [
    "sql_query3 = \"\"\"\n",
    "SELECT\n",
    "    \"Educational Qualifications\",\n",
    "    AVG(\"Family size\") AS Avg_Family_Size\n",
    "FROM \n",
    "    food\n",
    "GROUP BY \"Educational Qualifications\"\n",
    "ORDER BY Avg_Family_Size DESC\n",
    "\"\"\"\n",
    "\n",
    "\n",
    "result = db.sql(sql_query3).fetchdf()\n",
    "print(\"This is the result:\")\n",
    "print(result)"
   ]
  },
  {
   "cell_type": "code",
   "execution_count": 7,
   "id": "9dcc1e9e",
   "metadata": {},
   "outputs": [
    {
     "name": "stdout",
     "output_type": "stream",
     "text": [
      "This is the result:\n",
      "   Gender   Feedback  Total_Count\n",
      "0  Female   Positive          139\n",
      "1    Male   Positive          178\n",
      "2    Male  Negative            44\n",
      "3  Female  Negative            27\n"
     ]
    }
   ],
   "source": [
    "sql_query4 = \"\"\"\n",
    "SELECT\n",
    "    Gender,\n",
    "    Feedback,\n",
    "    COUNT(*) AS Total_Count\n",
    "FROM \n",
    "    food\n",
    "GROUP BY Gender, Feedback\n",
    "\"\"\"\n",
    "result = db.sql(sql_query4).fetchdf()\n",
    "print(\"This is the result:\")\n",
    "print(result)"
   ]
  },
  {
   "cell_type": "code",
   "execution_count": 8,
   "id": "0c9a15da",
   "metadata": {},
   "outputs": [
    {
     "name": "stdout",
     "output_type": "stream",
     "text": [
      "This is the result:\n",
      "       Occupation  Total_Count\n",
      "0         Student          207\n",
      "1        Employee          118\n",
      "2  Self Employeed           54\n",
      "3      House wife            9\n"
     ]
    }
   ],
   "source": [
    "# Query 4\n",
    "sql_query4 = \"\"\"\n",
    "SELECT\n",
    "    Occupation,\n",
    "    COUNT(*) AS Total_Count\n",
    "FROM \n",
    "    food\n",
    "GROUP BY Occupation\n",
    "ORDER BY Total_Count DESC\n",
    "\"\"\"\n",
    "\n",
    "result = db.sql(sql_query4).fetchdf()\n",
    "print(\"This is the result:\")\n",
    "print(result)"
   ]
  },
  {
   "cell_type": "code",
   "execution_count": 9,
   "id": "b878a2e8",
   "metadata": {},
   "outputs": [
    {
     "name": "stdout",
     "output_type": "stream",
     "text": [
      "This is the result:\n",
      "  Occupation  Total_Count\n",
      "0    Student           92\n"
     ]
    }
   ],
   "source": [
    "# Query 6\n",
    "sql_query6 = \"\"\"\n",
    "SELECT\n",
    "    Occupation,\n",
    "    COUNT(*) AS Total_Count\n",
    "FROM \n",
    "    food\n",
    "WHERE Gender = 'Female'\n",
    "GROUP BY Occupation\n",
    "ORDER BY Total_Count DESC\n",
    "LIMIT 1\n",
    "\"\"\"\n",
    "\n",
    "result = db.sql(sql_query6).fetchdf()\n",
    "print(\"This is the result:\")\n",
    "print(result)"
   ]
  },
  {
   "cell_type": "markdown",
   "id": "c7796bb5",
   "metadata": {},
   "source": [
    "# Part 4 - Using a text file to store all the SQL statements and then, running all of them. "
   ]
  },
  {
   "cell_type": "code",
   "execution_count": 14,
   "id": "939c090f",
   "metadata": {},
   "outputs": [
    {
     "name": "stdout",
     "output_type": "stream",
     "text": [
      "Result for query:\n",
      "       Occupation  Average_Age\n",
      "0        Employee    26.576271\n",
      "1         Student    22.811594\n",
      "2      House wife    30.333333\n",
      "3  Self Employeed    26.388889\n",
      "\n",
      "\n",
      "Result for query:\n",
      "  Educational Qualifications  Avg_Family_Size\n",
      "0                     School         4.416667\n",
      "1                       Ph.D         3.695652\n",
      "2                 Uneducated         3.500000\n",
      "3                   Graduate         3.276836\n",
      "4              Post Graduate         3.149425\n",
      "\n",
      "\n",
      "Result for query:\n",
      "       Occupation  Total_Count\n",
      "0         Student          207\n",
      "1        Employee          118\n",
      "2  Self Employeed           54\n",
      "3      House wife            9\n",
      "\n",
      "\n",
      "Result for query:\n",
      "  Occupation  Total_Count\n",
      "0    Student           92\n",
      "\n",
      "\n"
     ]
    }
   ],
   "source": [
    "# Open the text file containing SQL statements\n",
    "with open(\"queries.txt\", \"r\") as file:\n",
    "    # Read all lines from the file\n",
    "    lines = file.readlines()\n",
    "\n",
    "    # Initialize an empty list to store SQL statements\n",
    "    sql_queries = []\n",
    "\n",
    "    # Iterate through each line in the file\n",
    "    for line in lines:\n",
    "        # Strip any leading or trailing whitespace\n",
    "        line = line.strip()\n",
    "        \n",
    "        # Append non-empty lines (SQL statements) to the list\n",
    "        if line:\n",
    "            sql_queries.append(line)\n",
    "\n",
    "# Now, you have all SQL statements in the 'sql_queries' list\n",
    "# You can execute each SQL statement using a for loop\n",
    "for sql_query in sql_queries:\n",
    "    # Execute the SQL query\n",
    "    result = db.sql(sql_query).fetchdf()\n",
    "    \n",
    "    # Print the result\n",
    "    print(\"Result for query:\")\n",
    "    print(result)\n",
    "    print(\"\\n\")\n"
   ]
  }
 ],
 "metadata": {
  "kernelspec": {
   "display_name": "Python 3 (ipykernel)",
   "language": "python",
   "name": "python3"
  },
  "language_info": {
   "codemirror_mode": {
    "name": "ipython",
    "version": 3
   },
   "file_extension": ".py",
   "mimetype": "text/x-python",
   "name": "python",
   "nbconvert_exporter": "python",
   "pygments_lexer": "ipython3",
   "version": "3.11.5"
  }
 },
 "nbformat": 4,
 "nbformat_minor": 5
}
